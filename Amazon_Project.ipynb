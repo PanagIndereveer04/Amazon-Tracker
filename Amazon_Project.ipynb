{
 "cells": [
  {
   "cell_type": "code",
   "execution_count": 51,
   "id": "3f468057-4b34-4418-aec6-ff4f9b4f9840",
   "metadata": {},
   "outputs": [],
   "source": [
    "import pandas as pd\n",
    "import numpy as np\n",
    "from bs4 import BeautifulSoup\n",
    "import requests\n",
    "import smtplib\n",
    "import datetime\n",
    "import time\n"
   ]
  },
  {
   "cell_type": "code",
   "execution_count": 33,
   "id": "c7d2758a-c112-4632-b055-e21bbe588a61",
   "metadata": {},
   "outputs": [],
   "source": [
    "url = \"https://www.amazon.in/Puma-Dazzler-Black-Puma-Silver-Sneaker/dp/B09RGJCVW6/ref=sr_1_1?_encoding=UTF8&content-id=amzn1.sym.f08d43d1-8a17-4787-a3ba-ffaf0fa6dab5&dib=eyJ2IjoiMSJ9.pEU_SG8s_QSdtEV_8RiIUV5OSCQL0wh0YYmnxWsJ9x43BSA-DdHP6l_7t5r6ThgMuxol1oazs5dZ1OVkRcdpfyWw0_4ULGZ4UapeGXYapQIiuDXT8Ur8WExh3T-AVtNaccmSXx8tZJUyDcZ9C-RS4S_kW6XmMuSKKlkNx2i8syBDq_4MH7wQs2pziJR-zkaMoHBYsbs9YlI9nkco6SUhDQmG1dPhKrAPvfybfoqg3UMM-slXFiHjS6klC8K86svEpwTIVyqMViH9iGOiwkt3mFIuOwRfKM7bS7amk9qFFBY.uwfiTnZD23boXaWuSKyiph1IWdJriA4Pz0fjDNF_L8w&dib_tag=se&pd_rd_r=42fb280a-7569-496d-bd5b-c96138d1a20c&pd_rd_w=L9jEg&pd_rd_wg=CNEvt&pf_rd_p=f08d43d1-8a17-4787-a3ba-ffaf0fa6dab5&pf_rd_r=X3CQJHXHDJ3J9F5NG3N1&qid=1720599676&refinements=p_72%3A1318477031%2Cp_36%3A60000-%2Cp_n_feature_nineteen_browse-bin%3A11301363031&rnid=11301362031&s=apparel&sr=1-1\"\n",
    "\n",
    "headers = {\"User-Agent\": \"Mozilla/5.0 (Windows NT 10.0; Win64; x64) AppleWebKit/537.36 (KHTML, like Gecko) Chrome/126.0.0.0 Safari/537.36\"}\n",
    "\n",
    "page = requests.get(url, headers = headers)\n",
    "# print(page)\n",
    "\n",
    "soup1 = BeautifulSoup(page.content , 'html.parser')\n",
    "# print(soup1)\n",
    "\n",
    "soup2 = BeautifulSoup(soup1.prettify(), 'html.parser')\n",
    "# print(soup2)\n",
    "\n",
    "title = soup2.find(id = \"productTitle\").text.strip()\n",
    "price = soup2.find(class_ = \"a-price-whole\").text.strip()\n",
    "# print(title)\n",
    "# print(price)"
   ]
  },
  {
   "cell_type": "code",
   "execution_count": 44,
   "id": "9195235e-12a3-4431-b88b-50bc7e6035b7",
   "metadata": {},
   "outputs": [
    {
     "name": "stdout",
     "output_type": "stream",
     "text": [
      "2024-07-10\n"
     ]
    }
   ],
   "source": [
    "date = datetime.date.today()\n",
    "print(date)"
   ]
  },
  {
   "cell_type": "code",
   "execution_count": null,
   "id": "21c1e75e-89a5-4ec7-9ef9-43e5a00d2ec6",
   "metadata": {},
   "outputs": [],
   "source": [
    "import csv\n",
    "\n",
    "header = ['Title', 'Price','Date']\n",
    "data = [title, price, date]\n",
    "type(data)\n",
    "\n",
    "# with open('Amazon.csv', 'w', newline = '', encoding = 'UTF8') as f:\n",
    "#     writer = csv.writer(f)\n",
    "#     writer.writerow(header)\n",
    "#     writer.writerow(data)"
   ]
  },
  {
   "cell_type": "code",
   "execution_count": 48,
   "id": "40bcc0cc-2a87-43d7-9c1a-dd0379524f9d",
   "metadata": {},
   "outputs": [
    {
     "data": {
      "text/html": [
       "<div>\n",
       "<style scoped>\n",
       "    .dataframe tbody tr th:only-of-type {\n",
       "        vertical-align: middle;\n",
       "    }\n",
       "\n",
       "    .dataframe tbody tr th {\n",
       "        vertical-align: top;\n",
       "    }\n",
       "\n",
       "    .dataframe thead th {\n",
       "        text-align: right;\n",
       "    }\n",
       "</style>\n",
       "<table border=\"1\" class=\"dataframe\">\n",
       "  <thead>\n",
       "    <tr style=\"text-align: right;\">\n",
       "      <th></th>\n",
       "      <th>Title</th>\n",
       "      <th>Price</th>\n",
       "      <th>Date</th>\n",
       "    </tr>\n",
       "  </thead>\n",
       "  <tbody>\n",
       "    <tr>\n",
       "      <th>0</th>\n",
       "      <td>Puma Men's Dazzler Sneakers</td>\n",
       "      <td>2,559</td>\n",
       "      <td>2024-07-10</td>\n",
       "    </tr>\n",
       "    <tr>\n",
       "      <th>1</th>\n",
       "      <td>Puma Men's Dazzler Sneakers</td>\n",
       "      <td>2,559</td>\n",
       "      <td>2024-07-10</td>\n",
       "    </tr>\n",
       "  </tbody>\n",
       "</table>\n",
       "</div>"
      ],
      "text/plain": [
       "                         Title  Price        Date\n",
       "0  Puma Men's Dazzler Sneakers  2,559  2024-07-10\n",
       "1  Puma Men's Dazzler Sneakers  2,559  2024-07-10"
      ]
     },
     "execution_count": 48,
     "metadata": {},
     "output_type": "execute_result"
    }
   ],
   "source": [
    "df = pd.read_csv(r\"C:\\Users\\Inderveer Singh\\Data Analystics\\Pandas\\Amazon.csv\")\n",
    "df"
   ]
  },
  {
   "cell_type": "code",
   "execution_count": 47,
   "id": "d13556db-2392-4a9e-8aaf-3cd4302fec13",
   "metadata": {},
   "outputs": [],
   "source": [
    "# to append csv\n",
    "\n",
    "with open('Amazon.csv', 'a+', newline = '', encoding = 'UTF8') as f:\n",
    "    writer = csv.writer(f)\n",
    "    writer.writerow(data)"
   ]
  },
  {
   "cell_type": "code",
   "execution_count": 54,
   "id": "ea68af40-31ac-4292-84a0-cdaf42fbf37c",
   "metadata": {},
   "outputs": [],
   "source": [
    "def check_price():\n",
    "    url = \"https://www.amazon.in/Puma-Dazzler-Black-Puma-Silver-Sneaker/dp/B09RGJCVW6/ref=sr_1_1?_encoding=UTF8&content-id=amzn1.sym.f08d43d1-8a17-4787-a3ba-ffaf0fa6dab5&dib=eyJ2IjoiMSJ9.pEU_SG8s_QSdtEV_8RiIUV5OSCQL0wh0YYmnxWsJ9x43BSA-DdHP6l_7t5r6ThgMuxol1oazs5dZ1OVkRcdpfyWw0_4ULGZ4UapeGXYapQIiuDXT8Ur8WExh3T-AVtNaccmSXx8tZJUyDcZ9C-RS4S_kW6XmMuSKKlkNx2i8syBDq_4MH7wQs2pziJR-zkaMoHBYsbs9YlI9nkco6SUhDQmG1dPhKrAPvfybfoqg3UMM-slXFiHjS6klC8K86svEpwTIVyqMViH9iGOiwkt3mFIuOwRfKM7bS7amk9qFFBY.uwfiTnZD23boXaWuSKyiph1IWdJriA4Pz0fjDNF_L8w&dib_tag=se&pd_rd_r=42fb280a-7569-496d-bd5b-c96138d1a20c&pd_rd_w=L9jEg&pd_rd_wg=CNEvt&pf_rd_p=f08d43d1-8a17-4787-a3ba-ffaf0fa6dab5&pf_rd_r=X3CQJHXHDJ3J9F5NG3N1&qid=1720599676&refinements=p_72%3A1318477031%2Cp_36%3A60000-%2Cp_n_feature_nineteen_browse-bin%3A11301363031&rnid=11301362031&s=apparel&sr=1-1\"\n",
    "\n",
    "    headers = {\"User-Agent\": \"Mozilla/5.0 (Windows NT 10.0; Win64; x64) AppleWebKit/537.36 (KHTML, like Gecko) Chrome/126.0.0.0 Safari/537.36\"}\n",
    "    \n",
    "    page = requests.get(url, headers = headers)\n",
    "    # print(page)\n",
    "    \n",
    "    soup1 = BeautifulSoup(page.content , 'html.parser')\n",
    "    # print(soup1)\n",
    "    \n",
    "    soup2 = BeautifulSoup(soup1.prettify(), 'html.parser')\n",
    "    # print(soup2)\n",
    "    \n",
    "    title = soup2.find(id = \"productTitle\").text.strip()\n",
    "    price = soup2.find(class_ = \"a-price-whole\").text.strip()\n",
    "    date = datetime.date.today()\n",
    "    \n",
    "    import csv\n",
    "\n",
    "    header = ['Title', 'Price','Date']\n",
    "    data = [title, price, date]\n",
    "    type(data)\n",
    "    \n",
    "    with open('Amazon.csv', 'a+', newline = '', encoding = 'UTF8') as f:\n",
    "        writer = csv.writer(f)\n",
    "        writer.writerow(data)"
   ]
  },
  {
   "cell_type": "code",
   "execution_count": null,
   "id": "7f667946-cac3-4cc5-98b4-b0b78eb6f64f",
   "metadata": {},
   "outputs": [],
   "source": [
    "while(True):\n",
    "    check_price()\n",
    "    time.sleep(86400)"
   ]
  },
  {
   "cell_type": "code",
   "execution_count": 58,
   "id": "c1a7ef9b-d877-4e87-b70a-b7767d780fa5",
   "metadata": {},
   "outputs": [
    {
     "data": {
      "text/html": [
       "<div>\n",
       "<style scoped>\n",
       "    .dataframe tbody tr th:only-of-type {\n",
       "        vertical-align: middle;\n",
       "    }\n",
       "\n",
       "    .dataframe tbody tr th {\n",
       "        vertical-align: top;\n",
       "    }\n",
       "\n",
       "    .dataframe thead th {\n",
       "        text-align: right;\n",
       "    }\n",
       "</style>\n",
       "<table border=\"1\" class=\"dataframe\">\n",
       "  <thead>\n",
       "    <tr style=\"text-align: right;\">\n",
       "      <th></th>\n",
       "      <th>Title</th>\n",
       "      <th>Price</th>\n",
       "      <th>Date</th>\n",
       "    </tr>\n",
       "  </thead>\n",
       "  <tbody>\n",
       "    <tr>\n",
       "      <th>0</th>\n",
       "      <td>Puma Men's Dazzler Sneakers</td>\n",
       "      <td>2,559</td>\n",
       "      <td>2024-07-10</td>\n",
       "    </tr>\n",
       "    <tr>\n",
       "      <th>1</th>\n",
       "      <td>Puma Men's Dazzler Sneakers</td>\n",
       "      <td>2,559</td>\n",
       "      <td>2024-07-10</td>\n",
       "    </tr>\n",
       "    <tr>\n",
       "      <th>2</th>\n",
       "      <td>Puma Men's Dazzler Sneakers</td>\n",
       "      <td>2,559</td>\n",
       "      <td>2024-07-10</td>\n",
       "    </tr>\n",
       "    <tr>\n",
       "      <th>3</th>\n",
       "      <td>Puma Men's Dazzler Sneakers</td>\n",
       "      <td>2,559</td>\n",
       "      <td>2024-07-10</td>\n",
       "    </tr>\n",
       "    <tr>\n",
       "      <th>4</th>\n",
       "      <td>Puma Men's Dazzler Sneakers</td>\n",
       "      <td>2,559</td>\n",
       "      <td>2024-07-10</td>\n",
       "    </tr>\n",
       "    <tr>\n",
       "      <th>5</th>\n",
       "      <td>Puma Men's Dazzler Sneakers</td>\n",
       "      <td>2,559</td>\n",
       "      <td>2024-07-10</td>\n",
       "    </tr>\n",
       "    <tr>\n",
       "      <th>6</th>\n",
       "      <td>Puma Men's Dazzler Sneakers</td>\n",
       "      <td>2,559</td>\n",
       "      <td>2024-07-10</td>\n",
       "    </tr>\n",
       "    <tr>\n",
       "      <th>7</th>\n",
       "      <td>Puma Men's Dazzler Sneakers</td>\n",
       "      <td>2,559</td>\n",
       "      <td>2024-07-10</td>\n",
       "    </tr>\n",
       "  </tbody>\n",
       "</table>\n",
       "</div>"
      ],
      "text/plain": [
       "                         Title  Price        Date\n",
       "0  Puma Men's Dazzler Sneakers  2,559  2024-07-10\n",
       "1  Puma Men's Dazzler Sneakers  2,559  2024-07-10\n",
       "2  Puma Men's Dazzler Sneakers  2,559  2024-07-10\n",
       "3  Puma Men's Dazzler Sneakers  2,559  2024-07-10\n",
       "4  Puma Men's Dazzler Sneakers  2,559  2024-07-10\n",
       "5  Puma Men's Dazzler Sneakers  2,559  2024-07-10\n",
       "6  Puma Men's Dazzler Sneakers  2,559  2024-07-10\n",
       "7  Puma Men's Dazzler Sneakers  2,559  2024-07-10"
      ]
     },
     "execution_count": 58,
     "metadata": {},
     "output_type": "execute_result"
    }
   ],
   "source": [
    "df = pd.read_csv(r\"C:\\Users\\Inderveer Singh\\Data Analystics\\Pandas\\Amazon.csv\")\n",
    "df"
   ]
  },
  {
   "cell_type": "code",
   "execution_count": null,
   "id": "aa1a80a5-1c05-4411-8f18-b2fe28d7fbe5",
   "metadata": {},
   "outputs": [],
   "source": []
  }
 ],
 "metadata": {
  "kernelspec": {
   "display_name": "Python 3 (ipykernel)",
   "language": "python",
   "name": "python3"
  },
  "language_info": {
   "codemirror_mode": {
    "name": "ipython",
    "version": 3
   },
   "file_extension": ".py",
   "mimetype": "text/x-python",
   "name": "python",
   "nbconvert_exporter": "python",
   "pygments_lexer": "ipython3",
   "version": "3.12.4"
  }
 },
 "nbformat": 4,
 "nbformat_minor": 5
}
